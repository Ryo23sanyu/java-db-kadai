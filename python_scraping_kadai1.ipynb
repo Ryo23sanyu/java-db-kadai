{
  "nbformat": 4,
  "nbformat_minor": 0,
  "metadata": {
    "colab": {
      "provenance": [],
      "authorship_tag": "ABX9TyOBGaWdh4ZSMTf0GeNJmuem",
      "include_colab_link": true
    },
    "kernelspec": {
      "name": "python3",
      "display_name": "Python 3"
    },
    "language_info": {
      "name": "python"
    }
  },
  "cells": [
    {
      "cell_type": "markdown",
      "metadata": {
        "id": "view-in-github",
        "colab_type": "text"
      },
      "source": [
        "<a href=\"https://colab.research.google.com/github/Ryo23sanyu/java-db-kadai/blob/main/python_scraping_kadai1.ipynb\" target=\"_parent\"><img src=\"https://colab.research.google.com/assets/colab-badge.svg\" alt=\"Open In Colab\"/></a>"
      ]
    },
    {
      "cell_type": "code",
      "execution_count": 4,
      "metadata": {
        "id": "V2koJS89aEEL"
      },
      "outputs": [],
      "source": [
        "import requests\n",
        "from bs4 import BeautifulSoup"
      ]
    },
    {
      "cell_type": "code",
      "source": [
        "url = 'https://news.yahoo.co.jp/articles/a67b2e2f2cd61e64562a5caad325020290c1ce89'"
      ],
      "metadata": {
        "id": "Td3MbyRuadC5"
      },
      "execution_count": 24,
      "outputs": []
    },
    {
      "cell_type": "code",
      "source": [
        "response = requests.get(url)"
      ],
      "metadata": {
        "id": "5pSDdE2_akeL"
      },
      "execution_count": 25,
      "outputs": []
    },
    {
      "cell_type": "code",
      "source": [
        "soup = BeautifulSoup(response.text, 'html.parser')"
      ],
      "metadata": {
        "id": "BBp5ngehazBb"
      },
      "execution_count": 26,
      "outputs": []
    },
    {
      "cell_type": "code",
      "source": [
        "title_element = soup.select_one('#uamods>div>div>p')"
      ],
      "metadata": {
        "id": "tkD20atUblj8"
      },
      "execution_count": 32,
      "outputs": []
    },
    {
      "cell_type": "code",
      "source": [
        "title_text = title_element.text"
      ],
      "metadata": {
        "id": "m5nL716ugR3u"
      },
      "execution_count": 36,
      "outputs": []
    },
    {
      "cell_type": "code",
      "source": [
        "title_text_2 = title_text"
      ],
      "metadata": {
        "id": "KDtwIkZRhGQt"
      },
      "execution_count": 38,
      "outputs": []
    },
    {
      "cell_type": "code",
      "source": [
        "print(title_text_2)"
      ],
      "metadata": {
        "colab": {
          "base_uri": "https://localhost:8080/"
        },
        "id": "YgU1qsh8dPUn",
        "outputId": "3d8ea76b-f4b3-4788-f522-b91e1380e858"
      },
      "execution_count": 39,
      "outputs": [
        {
          "output_type": "stream",
          "name": "stdout",
          "text": [
            "　北海道旭川市の夫婦を刃物で切り付け死傷させたとして、殺人などの罪に問われている男の裁判員裁判で、検察は懲役25年を求刑しました。\n",
            "\n",
            "　旭川市の無職・川口和人被告（58）は2022年9月、自宅にBB弾を投げ込んだ子どもとトラブルになり、事実確認のため訪れた子どもの両親を折りたたみナイフで切り付け、父親を殺害し母親を殺害しようとした殺人などの罪に問われています。\n",
            "\n",
            "　11月22日旭川地裁で行われた論告求刑公判で、検察は「残忍な犯行で、法廷で被害者をおとしめる弁解を平然とするなど反省の態度がない」と指摘し、懲役25年を求刑しました。\n",
            "\n",
            "　判決は12月1日に言い渡される予定です。\n"
          ]
        }
      ]
    }
  ]
}